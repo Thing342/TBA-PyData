{
 "cells": [
  {
   "cell_type": "code",
   "execution_count": 2,
   "metadata": {
    "collapsed": false,
    "deletable": true,
    "editable": true
   },
   "outputs": [],
   "source": [
    "from tba_pydata import api, analysis\n",
    "from tba_pydata.games import power_up_2018 as powerup"
   ]
  },
  {
   "cell_type": "code",
   "execution_count": 3,
   "metadata": {
    "collapsed": false,
    "deletable": true,
    "editable": true
   },
   "outputs": [
    {
     "name": "stdout",
     "output_type": "stream",
     "text": [
      "https://www.thebluealliance.com/api/v3/event/2018vagle/matches 200\n"
     ]
    }
   ],
   "source": [
    "EVENT = '2018vagle'\n",
    "matches = api.matches(event=EVENT, score_parsing_fn=powerup.scoring)"
   ]
  },
  {
   "cell_type": "code",
   "execution_count": 8,
   "metadata": {
    "collapsed": false
   },
   "outputs": [
    {
     "data": {
      "text/plain": [
       "Index(['actual_time', 'alliances', 'comp_level', 'event_key', 'key',\n",
       "       'match_number', 'post_result_time', 'predicted_time', 'score_breakdown',\n",
       "       'set_number',\n",
       "       ...\n",
       "       'blue_ownership_switch_force', 'blue_ownership_points',\n",
       "       'blue_endgame_robot1', 'blue_endgame_robot2', 'blue_endgame_robot3',\n",
       "       'blue_endgame_true_climb', 'blue_endgame_climb', 'blue_endgame_park',\n",
       "       'blue_endgame_rp', 'blue_endgame_points'],\n",
       "      dtype='object', length=103)"
      ]
     },
     "execution_count": 8,
     "metadata": {},
     "output_type": "execute_result"
    }
   ],
   "source": [
    "matches.columns"
   ]
  },
  {
   "cell_type": "code",
   "execution_count": 11,
   "metadata": {
    "collapsed": false,
    "deletable": true,
    "editable": true
   },
   "outputs": [
    {
     "data": {
      "text/html": [
       "<table class=\"simpletable\">\n",
       "<caption>OLS Regression Results</caption>\n",
       "<tr>\n",
       "  <th>Dep. Variable:</th>          <td>value</td>      <th>  R-squared:         </th> <td>   0.467</td>\n",
       "</tr>\n",
       "<tr>\n",
       "  <th>Model:</th>                   <td>OLS</td>       <th>  Adj. R-squared:    </th> <td>   0.225</td>\n",
       "</tr>\n",
       "<tr>\n",
       "  <th>Method:</th>             <td>Least Squares</td>  <th>  F-statistic:       </th> <td>   1.931</td>\n",
       "</tr>\n",
       "<tr>\n",
       "  <th>Date:</th>             <td>Sat, 10 Mar 2018</td> <th>  Prob (F-statistic):</th>  <td>0.00934</td>\n",
       "</tr>\n",
       "<tr>\n",
       "  <th>Time:</th>                 <td>20:22:16</td>     <th>  Log-Likelihood:    </th> <td> -524.43</td>\n",
       "</tr>\n",
       "<tr>\n",
       "  <th>No. Observations:</th>      <td>   110</td>      <th>  AIC:               </th> <td>   1119.</td>\n",
       "</tr>\n",
       "<tr>\n",
       "  <th>Df Residuals:</th>          <td>    75</td>      <th>  BIC:               </th> <td>   1213.</td>\n",
       "</tr>\n",
       "<tr>\n",
       "  <th>Df Model:</th>              <td>    34</td>      <th>                     </th>     <td> </td>   \n",
       "</tr>\n",
       "<tr>\n",
       "  <th>Covariance Type:</th>      <td>nonrobust</td>    <th>                     </th>     <td> </td>   \n",
       "</tr>\n",
       "</table>\n",
       "<table class=\"simpletable\">\n",
       "<tr>\n",
       "     <td></td>        <th>coef</th>     <th>std err</th>      <th>t</th>      <th>P>|t|</th>  <th>[0.025</th>    <th>0.975]</th>  \n",
       "</tr>\n",
       "<tr>\n",
       "  <th>frc1086</th> <td>   59.2444</td> <td>   11.823</td> <td>    5.011</td> <td> 0.000</td> <td>   35.692</td> <td>   82.796</td>\n",
       "</tr>\n",
       "<tr>\n",
       "  <th>frc1262</th> <td>   43.2087</td> <td>   12.625</td> <td>    3.422</td> <td> 0.001</td> <td>   18.058</td> <td>   68.359</td>\n",
       "</tr>\n",
       "<tr>\n",
       "  <th>frc1413</th> <td>   36.6742</td> <td>   12.500</td> <td>    2.934</td> <td> 0.004</td> <td>   11.772</td> <td>   61.576</td>\n",
       "</tr>\n",
       "<tr>\n",
       "  <th>frc1522</th> <td>   44.4856</td> <td>   12.410</td> <td>    3.585</td> <td> 0.001</td> <td>   19.764</td> <td>   69.207</td>\n",
       "</tr>\n",
       "<tr>\n",
       "  <th>frc1598</th> <td>   25.4960</td> <td>   11.799</td> <td>    2.161</td> <td> 0.034</td> <td>    1.991</td> <td>   49.001</td>\n",
       "</tr>\n",
       "<tr>\n",
       "  <th>frc1599</th> <td>   53.3500</td> <td>   11.833</td> <td>    4.509</td> <td> 0.000</td> <td>   29.778</td> <td>   76.922</td>\n",
       "</tr>\n",
       "<tr>\n",
       "  <th>frc1610</th> <td>   45.9565</td> <td>   11.780</td> <td>    3.901</td> <td> 0.000</td> <td>   22.489</td> <td>   69.424</td>\n",
       "</tr>\n",
       "<tr>\n",
       "  <th>frc1793</th> <td>    6.6456</td> <td>   11.730</td> <td>    0.567</td> <td> 0.573</td> <td>  -16.722</td> <td>   30.013</td>\n",
       "</tr>\n",
       "<tr>\n",
       "  <th>frc1908</th> <td>   28.0545</td> <td>   12.623</td> <td>    2.223</td> <td> 0.029</td> <td>    2.909</td> <td>   53.200</td>\n",
       "</tr>\n",
       "<tr>\n",
       "  <th>frc2028</th> <td>   31.2928</td> <td>   12.504</td> <td>    2.503</td> <td> 0.015</td> <td>    6.383</td> <td>   56.202</td>\n",
       "</tr>\n",
       "<tr>\n",
       "  <th>frc2068</th> <td>   35.1966</td> <td>   11.889</td> <td>    2.960</td> <td> 0.004</td> <td>   11.512</td> <td>   58.881</td>\n",
       "</tr>\n",
       "<tr>\n",
       "  <th>frc2106</th> <td>   41.0554</td> <td>   11.816</td> <td>    3.474</td> <td> 0.001</td> <td>   17.516</td> <td>   64.595</td>\n",
       "</tr>\n",
       "<tr>\n",
       "  <th>frc2998</th> <td>   37.2567</td> <td>   12.578</td> <td>    2.962</td> <td> 0.004</td> <td>   12.199</td> <td>   62.314</td>\n",
       "</tr>\n",
       "<tr>\n",
       "  <th>frc3136</th> <td>   25.0826</td> <td>   11.858</td> <td>    2.115</td> <td> 0.038</td> <td>    1.460</td> <td>   48.706</td>\n",
       "</tr>\n",
       "<tr>\n",
       "  <th>frc3258</th> <td>   43.4773</td> <td>   12.638</td> <td>    3.440</td> <td> 0.001</td> <td>   18.301</td> <td>   68.654</td>\n",
       "</tr>\n",
       "<tr>\n",
       "  <th>frc3361</th> <td>   10.0694</td> <td>   12.545</td> <td>    0.803</td> <td> 0.425</td> <td>  -14.922</td> <td>   35.061</td>\n",
       "</tr>\n",
       "<tr>\n",
       "  <th>frc339</th>  <td>   63.0314</td> <td>   11.910</td> <td>    5.292</td> <td> 0.000</td> <td>   39.305</td> <td>   86.757</td>\n",
       "</tr>\n",
       "<tr>\n",
       "  <th>frc346</th>  <td>   33.3694</td> <td>   12.602</td> <td>    2.648</td> <td> 0.010</td> <td>    8.265</td> <td>   58.473</td>\n",
       "</tr>\n",
       "<tr>\n",
       "  <th>frc384</th>  <td>   30.5864</td> <td>   11.773</td> <td>    2.598</td> <td> 0.011</td> <td>    7.133</td> <td>   54.040</td>\n",
       "</tr>\n",
       "<tr>\n",
       "  <th>frc3939</th> <td>   52.0670</td> <td>   12.525</td> <td>    4.157</td> <td> 0.000</td> <td>   27.116</td> <td>   77.018</td>\n",
       "</tr>\n",
       "<tr>\n",
       "  <th>frc401</th>  <td>   11.3661</td> <td>   12.492</td> <td>    0.910</td> <td> 0.366</td> <td>  -13.519</td> <td>   36.251</td>\n",
       "</tr>\n",
       "<tr>\n",
       "  <th>frc4286</th> <td>    7.2412</td> <td>   12.533</td> <td>    0.578</td> <td> 0.565</td> <td>  -17.727</td> <td>   32.209</td>\n",
       "</tr>\n",
       "<tr>\n",
       "  <th>frc4795</th> <td>   53.1893</td> <td>   12.517</td> <td>    4.249</td> <td> 0.000</td> <td>   28.254</td> <td>   78.125</td>\n",
       "</tr>\n",
       "<tr>\n",
       "  <th>frc5279</th> <td>   49.4131</td> <td>   11.703</td> <td>    4.222</td> <td> 0.000</td> <td>   26.099</td> <td>   72.728</td>\n",
       "</tr>\n",
       "<tr>\n",
       "  <th>frc540</th>  <td>   40.3252</td> <td>   12.548</td> <td>    3.214</td> <td> 0.002</td> <td>   15.327</td> <td>   65.323</td>\n",
       "</tr>\n",
       "<tr>\n",
       "  <th>frc5804</th> <td>   18.8091</td> <td>   12.488</td> <td>    1.506</td> <td> 0.136</td> <td>   -6.068</td> <td>   43.686</td>\n",
       "</tr>\n",
       "<tr>\n",
       "  <th>frc5950</th> <td>   50.4571</td> <td>   12.557</td> <td>    4.018</td> <td> 0.000</td> <td>   25.443</td> <td>   75.472</td>\n",
       "</tr>\n",
       "<tr>\n",
       "  <th>frc5954</th> <td>   14.2417</td> <td>   11.871</td> <td>    1.200</td> <td> 0.234</td> <td>   -9.406</td> <td>   37.890</td>\n",
       "</tr>\n",
       "<tr>\n",
       "  <th>frc5957</th> <td>   11.1431</td> <td>   11.923</td> <td>    0.935</td> <td> 0.353</td> <td>  -12.609</td> <td>   34.895</td>\n",
       "</tr>\n",
       "<tr>\n",
       "  <th>frc6021</th> <td>   33.1760</td> <td>   12.551</td> <td>    2.643</td> <td> 0.010</td> <td>    8.174</td> <td>   58.178</td>\n",
       "</tr>\n",
       "<tr>\n",
       "  <th>frc617</th>  <td>   -2.2155</td> <td>   12.621</td> <td>   -0.176</td> <td> 0.861</td> <td>  -27.357</td> <td>   22.926</td>\n",
       "</tr>\n",
       "<tr>\n",
       "  <th>frc6189</th> <td>   22.8093</td> <td>   11.894</td> <td>    1.918</td> <td> 0.059</td> <td>   -0.884</td> <td>   46.503</td>\n",
       "</tr>\n",
       "<tr>\n",
       "  <th>frc6802</th> <td>   50.4368</td> <td>   12.706</td> <td>    3.970</td> <td> 0.000</td> <td>   25.126</td> <td>   75.748</td>\n",
       "</tr>\n",
       "<tr>\n",
       "  <th>frc6882</th> <td>   60.0630</td> <td>   12.585</td> <td>    4.773</td> <td> 0.000</td> <td>   34.992</td> <td>   85.134</td>\n",
       "</tr>\n",
       "<tr>\n",
       "  <th>frc836</th>  <td>   31.8244</td> <td>   11.779</td> <td>    2.702</td> <td> 0.009</td> <td>    8.360</td> <td>   55.288</td>\n",
       "</tr>\n",
       "</table>\n",
       "<table class=\"simpletable\">\n",
       "<tr>\n",
       "  <th>Omnibus:</th>       <td> 4.894</td> <th>  Durbin-Watson:     </th> <td>   2.275</td>\n",
       "</tr>\n",
       "<tr>\n",
       "  <th>Prob(Omnibus):</th> <td> 0.087</td> <th>  Jarque-Bera (JB):  </th> <td>   4.547</td>\n",
       "</tr>\n",
       "<tr>\n",
       "  <th>Skew:</th>          <td>-0.495</td> <th>  Prob(JB):          </th> <td>   0.103</td>\n",
       "</tr>\n",
       "<tr>\n",
       "  <th>Kurtosis:</th>      <td> 3.104</td> <th>  Cond. No.          </th> <td>    2.75</td>\n",
       "</tr>\n",
       "</table>"
      ],
      "text/plain": [
       "<class 'statsmodels.iolib.summary.Summary'>\n",
       "\"\"\"\n",
       "                            OLS Regression Results                            \n",
       "==============================================================================\n",
       "Dep. Variable:                  value   R-squared:                       0.467\n",
       "Model:                            OLS   Adj. R-squared:                  0.225\n",
       "Method:                 Least Squares   F-statistic:                     1.931\n",
       "Date:                Sat, 10 Mar 2018   Prob (F-statistic):            0.00934\n",
       "Time:                        20:22:16   Log-Likelihood:                -524.43\n",
       "No. Observations:                 110   AIC:                             1119.\n",
       "Df Residuals:                      75   BIC:                             1213.\n",
       "Df Model:                          34                                         \n",
       "Covariance Type:            nonrobust                                         \n",
       "==============================================================================\n",
       "                 coef    std err          t      P>|t|      [0.025      0.975]\n",
       "------------------------------------------------------------------------------\n",
       "frc1086       59.2444     11.823      5.011      0.000      35.692      82.796\n",
       "frc1262       43.2087     12.625      3.422      0.001      18.058      68.359\n",
       "frc1413       36.6742     12.500      2.934      0.004      11.772      61.576\n",
       "frc1522       44.4856     12.410      3.585      0.001      19.764      69.207\n",
       "frc1598       25.4960     11.799      2.161      0.034       1.991      49.001\n",
       "frc1599       53.3500     11.833      4.509      0.000      29.778      76.922\n",
       "frc1610       45.9565     11.780      3.901      0.000      22.489      69.424\n",
       "frc1793        6.6456     11.730      0.567      0.573     -16.722      30.013\n",
       "frc1908       28.0545     12.623      2.223      0.029       2.909      53.200\n",
       "frc2028       31.2928     12.504      2.503      0.015       6.383      56.202\n",
       "frc2068       35.1966     11.889      2.960      0.004      11.512      58.881\n",
       "frc2106       41.0554     11.816      3.474      0.001      17.516      64.595\n",
       "frc2998       37.2567     12.578      2.962      0.004      12.199      62.314\n",
       "frc3136       25.0826     11.858      2.115      0.038       1.460      48.706\n",
       "frc3258       43.4773     12.638      3.440      0.001      18.301      68.654\n",
       "frc3361       10.0694     12.545      0.803      0.425     -14.922      35.061\n",
       "frc339        63.0314     11.910      5.292      0.000      39.305      86.757\n",
       "frc346        33.3694     12.602      2.648      0.010       8.265      58.473\n",
       "frc384        30.5864     11.773      2.598      0.011       7.133      54.040\n",
       "frc3939       52.0670     12.525      4.157      0.000      27.116      77.018\n",
       "frc401        11.3661     12.492      0.910      0.366     -13.519      36.251\n",
       "frc4286        7.2412     12.533      0.578      0.565     -17.727      32.209\n",
       "frc4795       53.1893     12.517      4.249      0.000      28.254      78.125\n",
       "frc5279       49.4131     11.703      4.222      0.000      26.099      72.728\n",
       "frc540        40.3252     12.548      3.214      0.002      15.327      65.323\n",
       "frc5804       18.8091     12.488      1.506      0.136      -6.068      43.686\n",
       "frc5950       50.4571     12.557      4.018      0.000      25.443      75.472\n",
       "frc5954       14.2417     11.871      1.200      0.234      -9.406      37.890\n",
       "frc5957       11.1431     11.923      0.935      0.353     -12.609      34.895\n",
       "frc6021       33.1760     12.551      2.643      0.010       8.174      58.178\n",
       "frc617        -2.2155     12.621     -0.176      0.861     -27.357      22.926\n",
       "frc6189       22.8093     11.894      1.918      0.059      -0.884      46.503\n",
       "frc6802       50.4368     12.706      3.970      0.000      25.126      75.748\n",
       "frc6882       60.0630     12.585      4.773      0.000      34.992      85.134\n",
       "frc836        31.8244     11.779      2.702      0.009       8.360      55.288\n",
       "==============================================================================\n",
       "Omnibus:                        4.894   Durbin-Watson:                   2.275\n",
       "Prob(Omnibus):                  0.087   Jarque-Bera (JB):                4.547\n",
       "Skew:                          -0.495   Prob(JB):                        0.103\n",
       "Kurtosis:                       3.104   Cond. No.                         2.75\n",
       "==============================================================================\n",
       "\n",
       "Warnings:\n",
       "[1] Standard Errors assume that the covariance matrix of the errors is correctly specified.\n",
       "\"\"\""
      ]
     },
     "execution_count": 11,
     "metadata": {},
     "output_type": "execute_result"
    }
   ],
   "source": [
    "climbopr = analysis.get_opr_model(matches, score_col='ownership_switch_sec')\n",
    "climbopr.summary()"
   ]
  },
  {
   "cell_type": "code",
   "execution_count": 5,
   "metadata": {
    "collapsed": false,
    "deletable": true,
    "editable": true
   },
   "outputs": [
    {
     "name": "stderr",
     "output_type": "stream",
     "text": [
      "/home/wes/Development/frc/TBA-PyData/tba_pydata/analysis.py:32: SettingWithCopyWarning: \n",
      "A value is trying to be set on a copy of a slice from a DataFrame.\n",
      "Try using .loc[row_indexer,col_indexer] = value instead\n",
      "\n",
      "See the caveats in the documentation: http://pandas.pydata.org/pandas-docs/stable/indexing.html#indexing-view-versus-copy\n",
      "  df[margin] = df[red_score] - df[blue_score]\n"
     ]
    }
   ],
   "source": [
    "epr = analysis.get_epr_model(matches)"
   ]
  },
  {
   "cell_type": "code",
   "execution_count": 6,
   "metadata": {
    "collapsed": false,
    "deletable": true,
    "editable": true
   },
   "outputs": [
    {
     "data": {
      "text/plain": [
       "frc1598     -9.649298\n",
       "frc4286     -5.434813\n",
       "frc1793     13.864890\n",
       "frc617      15.233089\n",
       "frc3361     17.442796\n",
       "frc6021     18.897191\n",
       "frc5954     21.778399\n",
       "frc5957     25.613347\n",
       "frc1908     34.201797\n",
       "frc401      42.044479\n",
       "frc3136     42.060001\n",
       "frc6189     58.622867\n",
       "frc540      60.024517\n",
       "frc2998     62.359943\n",
       "frc2028     68.362696\n",
       "frc5804     82.616013\n",
       "frc2068     84.250734\n",
       "frc1413     85.025032\n",
       "frc1522     89.875038\n",
       "frc1086     98.404883\n",
       "frc5950    100.413325\n",
       "frc5279    101.382613\n",
       "frc2106    108.512800\n",
       "frc1610    110.416388\n",
       "frc1599    115.650759\n",
       "frc836     117.425262\n",
       "frc3939    118.248323\n",
       "frc3258    130.460252\n",
       "frc339     134.611689\n",
       "frc4795    140.388769\n",
       "frc346     142.799269\n",
       "frc384     144.478667\n",
       "frc6882    145.175780\n",
       "frc6802    163.482642\n",
       "frc1262    208.801641\n",
       "dtype: float64"
      ]
     },
     "execution_count": 6,
     "metadata": {},
     "output_type": "execute_result"
    }
   ],
   "source": [
    "epr.params.sort_values()"
   ]
  },
  {
   "cell_type": "code",
   "execution_count": 7,
   "metadata": {
    "collapsed": false,
    "deletable": true,
    "editable": true
   },
   "outputs": [
    {
     "data": {
      "text/html": [
       "<table class=\"simpletable\">\n",
       "<caption>OLS Regression Results</caption>\n",
       "<tr>\n",
       "  <th>Dep. Variable:</th>          <td>value</td>      <th>  R-squared:         </th> <td>   0.918</td>\n",
       "</tr>\n",
       "<tr>\n",
       "  <th>Model:</th>                   <td>OLS</td>       <th>  Adj. R-squared:    </th> <td>   0.895</td>\n",
       "</tr>\n",
       "<tr>\n",
       "  <th>Method:</th>             <td>Least Squares</td>  <th>  F-statistic:       </th> <td>   41.35</td>\n",
       "</tr>\n",
       "<tr>\n",
       "  <th>Date:</th>             <td>Sat, 10 Mar 2018</td> <th>  Prob (F-statistic):</th> <td>6.42e-55</td>\n",
       "</tr>\n",
       "<tr>\n",
       "  <th>Time:</th>                 <td>20:15:11</td>     <th>  Log-Likelihood:    </th> <td> -933.67</td>\n",
       "</tr>\n",
       "<tr>\n",
       "  <th>No. Observations:</th>      <td>   165</td>      <th>  AIC:               </th> <td>   1937.</td>\n",
       "</tr>\n",
       "<tr>\n",
       "  <th>Df Residuals:</th>          <td>   130</td>      <th>  BIC:               </th> <td>   2046.</td>\n",
       "</tr>\n",
       "<tr>\n",
       "  <th>Df Model:</th>              <td>    35</td>      <th>                     </th>     <td> </td>   \n",
       "</tr>\n",
       "<tr>\n",
       "  <th>Covariance Type:</th>      <td>nonrobust</td>    <th>                     </th>     <td> </td>   \n",
       "</tr>\n",
       "</table>\n",
       "<table class=\"simpletable\">\n",
       "<tr>\n",
       "     <td></td>        <th>coef</th>     <th>std err</th>      <th>t</th>      <th>P>|t|</th>  <th>[0.025</th>    <th>0.975]</th>  \n",
       "</tr>\n",
       "<tr>\n",
       "  <th>frc1086</th> <td>   98.4049</td> <td>   18.943</td> <td>    5.195</td> <td> 0.000</td> <td>   60.928</td> <td>  135.881</td>\n",
       "</tr>\n",
       "<tr>\n",
       "  <th>frc1262</th> <td>  208.8016</td> <td>   20.820</td> <td>   10.029</td> <td> 0.000</td> <td>  167.612</td> <td>  249.992</td>\n",
       "</tr>\n",
       "<tr>\n",
       "  <th>frc1413</th> <td>   85.0250</td> <td>   20.414</td> <td>    4.165</td> <td> 0.000</td> <td>   44.639</td> <td>  125.412</td>\n",
       "</tr>\n",
       "<tr>\n",
       "  <th>frc1522</th> <td>   89.8750</td> <td>   20.324</td> <td>    4.422</td> <td> 0.000</td> <td>   49.667</td> <td>  130.083</td>\n",
       "</tr>\n",
       "<tr>\n",
       "  <th>frc1598</th> <td>   -9.6493</td> <td>   19.519</td> <td>   -0.494</td> <td> 0.622</td> <td>  -48.265</td> <td>   28.966</td>\n",
       "</tr>\n",
       "<tr>\n",
       "  <th>frc1599</th> <td>  115.6508</td> <td>   19.124</td> <td>    6.047</td> <td> 0.000</td> <td>   77.816</td> <td>  153.485</td>\n",
       "</tr>\n",
       "<tr>\n",
       "  <th>frc1610</th> <td>  110.4164</td> <td>   18.744</td> <td>    5.891</td> <td> 0.000</td> <td>   73.334</td> <td>  147.498</td>\n",
       "</tr>\n",
       "<tr>\n",
       "  <th>frc1793</th> <td>   13.8649</td> <td>   19.143</td> <td>    0.724</td> <td> 0.470</td> <td>  -24.007</td> <td>   51.737</td>\n",
       "</tr>\n",
       "<tr>\n",
       "  <th>frc1908</th> <td>   34.2018</td> <td>   20.282</td> <td>    1.686</td> <td> 0.094</td> <td>   -5.924</td> <td>   74.328</td>\n",
       "</tr>\n",
       "<tr>\n",
       "  <th>frc2028</th> <td>   68.3627</td> <td>   20.878</td> <td>    3.274</td> <td> 0.001</td> <td>   27.058</td> <td>  109.667</td>\n",
       "</tr>\n",
       "<tr>\n",
       "  <th>frc2068</th> <td>   84.2507</td> <td>   19.080</td> <td>    4.416</td> <td> 0.000</td> <td>   46.502</td> <td>  121.999</td>\n",
       "</tr>\n",
       "<tr>\n",
       "  <th>frc2106</th> <td>  108.5128</td> <td>   19.137</td> <td>    5.670</td> <td> 0.000</td> <td>   70.653</td> <td>  146.373</td>\n",
       "</tr>\n",
       "<tr>\n",
       "  <th>frc2998</th> <td>   62.3599</td> <td>   20.068</td> <td>    3.107</td> <td> 0.002</td> <td>   22.657</td> <td>  102.063</td>\n",
       "</tr>\n",
       "<tr>\n",
       "  <th>frc3136</th> <td>   42.0600</td> <td>   19.248</td> <td>    2.185</td> <td> 0.031</td> <td>    3.980</td> <td>   80.140</td>\n",
       "</tr>\n",
       "<tr>\n",
       "  <th>frc3258</th> <td>  130.4603</td> <td>   20.617</td> <td>    6.328</td> <td> 0.000</td> <td>   89.672</td> <td>  171.248</td>\n",
       "</tr>\n",
       "<tr>\n",
       "  <th>frc3361</th> <td>   17.4428</td> <td>   20.092</td> <td>    0.868</td> <td> 0.387</td> <td>  -22.308</td> <td>   57.193</td>\n",
       "</tr>\n",
       "<tr>\n",
       "  <th>frc339</th>  <td>  134.6117</td> <td>   19.618</td> <td>    6.861</td> <td> 0.000</td> <td>   95.799</td> <td>  173.424</td>\n",
       "</tr>\n",
       "<tr>\n",
       "  <th>frc346</th>  <td>  142.7993</td> <td>   21.527</td> <td>    6.634</td> <td> 0.000</td> <td>  100.211</td> <td>  185.388</td>\n",
       "</tr>\n",
       "<tr>\n",
       "  <th>frc384</th>  <td>  144.4787</td> <td>   18.858</td> <td>    7.661</td> <td> 0.000</td> <td>  107.171</td> <td>  181.787</td>\n",
       "</tr>\n",
       "<tr>\n",
       "  <th>frc3939</th> <td>  118.2483</td> <td>   20.355</td> <td>    5.809</td> <td> 0.000</td> <td>   77.979</td> <td>  158.518</td>\n",
       "</tr>\n",
       "<tr>\n",
       "  <th>frc401</th>  <td>   42.0445</td> <td>   20.079</td> <td>    2.094</td> <td> 0.038</td> <td>    2.321</td> <td>   81.768</td>\n",
       "</tr>\n",
       "<tr>\n",
       "  <th>frc4286</th> <td>   -5.4348</td> <td>   20.311</td> <td>   -0.268</td> <td> 0.789</td> <td>  -45.617</td> <td>   34.747</td>\n",
       "</tr>\n",
       "<tr>\n",
       "  <th>frc4795</th> <td>  140.3888</td> <td>   20.733</td> <td>    6.771</td> <td> 0.000</td> <td>   99.371</td> <td>  181.407</td>\n",
       "</tr>\n",
       "<tr>\n",
       "  <th>frc5279</th> <td>  101.3826</td> <td>   19.096</td> <td>    5.309</td> <td> 0.000</td> <td>   63.604</td> <td>  139.161</td>\n",
       "</tr>\n",
       "<tr>\n",
       "  <th>frc540</th>  <td>   60.0245</td> <td>   20.118</td> <td>    2.984</td> <td> 0.003</td> <td>   20.223</td> <td>   99.826</td>\n",
       "</tr>\n",
       "<tr>\n",
       "  <th>frc5804</th> <td>   82.6160</td> <td>   19.931</td> <td>    4.145</td> <td> 0.000</td> <td>   43.185</td> <td>  122.047</td>\n",
       "</tr>\n",
       "<tr>\n",
       "  <th>frc5950</th> <td>  100.4133</td> <td>   20.247</td> <td>    4.959</td> <td> 0.000</td> <td>   60.357</td> <td>  140.470</td>\n",
       "</tr>\n",
       "<tr>\n",
       "  <th>frc5954</th> <td>   21.7784</td> <td>   18.796</td> <td>    1.159</td> <td> 0.249</td> <td>  -15.408</td> <td>   58.964</td>\n",
       "</tr>\n",
       "<tr>\n",
       "  <th>frc5957</th> <td>   25.6133</td> <td>   19.877</td> <td>    1.289</td> <td> 0.200</td> <td>  -13.711</td> <td>   64.938</td>\n",
       "</tr>\n",
       "<tr>\n",
       "  <th>frc6021</th> <td>   18.8972</td> <td>   20.050</td> <td>    0.942</td> <td> 0.348</td> <td>  -20.770</td> <td>   58.564</td>\n",
       "</tr>\n",
       "<tr>\n",
       "  <th>frc617</th>  <td>   15.2331</td> <td>   19.867</td> <td>    0.767</td> <td> 0.445</td> <td>  -24.072</td> <td>   54.538</td>\n",
       "</tr>\n",
       "<tr>\n",
       "  <th>frc6189</th> <td>   58.6229</td> <td>   18.855</td> <td>    3.109</td> <td> 0.002</td> <td>   21.321</td> <td>   95.925</td>\n",
       "</tr>\n",
       "<tr>\n",
       "  <th>frc6802</th> <td>  163.4826</td> <td>   20.797</td> <td>    7.861</td> <td> 0.000</td> <td>  122.339</td> <td>  204.626</td>\n",
       "</tr>\n",
       "<tr>\n",
       "  <th>frc6882</th> <td>  145.1758</td> <td>   21.025</td> <td>    6.905</td> <td> 0.000</td> <td>  103.581</td> <td>  186.771</td>\n",
       "</tr>\n",
       "<tr>\n",
       "  <th>frc836</th>  <td>  117.4253</td> <td>   19.085</td> <td>    6.153</td> <td> 0.000</td> <td>   79.668</td> <td>  155.182</td>\n",
       "</tr>\n",
       "</table>\n",
       "<table class=\"simpletable\">\n",
       "<tr>\n",
       "  <th>Omnibus:</th>       <td> 1.184</td> <th>  Durbin-Watson:     </th> <td>   2.102</td>\n",
       "</tr>\n",
       "<tr>\n",
       "  <th>Prob(Omnibus):</th> <td> 0.553</td> <th>  Jarque-Bera (JB):  </th> <td>   1.105</td>\n",
       "</tr>\n",
       "<tr>\n",
       "  <th>Skew:</th>          <td>-0.026</td> <th>  Prob(JB):          </th> <td>   0.576</td>\n",
       "</tr>\n",
       "<tr>\n",
       "  <th>Kurtosis:</th>      <td> 2.602</td> <th>  Cond. No.          </th> <td>    2.33</td>\n",
       "</tr>\n",
       "</table>"
      ],
      "text/plain": [
       "<class 'statsmodels.iolib.summary.Summary'>\n",
       "\"\"\"\n",
       "                            OLS Regression Results                            \n",
       "==============================================================================\n",
       "Dep. Variable:                  value   R-squared:                       0.918\n",
       "Model:                            OLS   Adj. R-squared:                  0.895\n",
       "Method:                 Least Squares   F-statistic:                     41.35\n",
       "Date:                Sat, 10 Mar 2018   Prob (F-statistic):           6.42e-55\n",
       "Time:                        20:15:11   Log-Likelihood:                -933.67\n",
       "No. Observations:                 165   AIC:                             1937.\n",
       "Df Residuals:                     130   BIC:                             2046.\n",
       "Df Model:                          35                                         \n",
       "Covariance Type:            nonrobust                                         \n",
       "==============================================================================\n",
       "                 coef    std err          t      P>|t|      [0.025      0.975]\n",
       "------------------------------------------------------------------------------\n",
       "frc1086       98.4049     18.943      5.195      0.000      60.928     135.881\n",
       "frc1262      208.8016     20.820     10.029      0.000     167.612     249.992\n",
       "frc1413       85.0250     20.414      4.165      0.000      44.639     125.412\n",
       "frc1522       89.8750     20.324      4.422      0.000      49.667     130.083\n",
       "frc1598       -9.6493     19.519     -0.494      0.622     -48.265      28.966\n",
       "frc1599      115.6508     19.124      6.047      0.000      77.816     153.485\n",
       "frc1610      110.4164     18.744      5.891      0.000      73.334     147.498\n",
       "frc1793       13.8649     19.143      0.724      0.470     -24.007      51.737\n",
       "frc1908       34.2018     20.282      1.686      0.094      -5.924      74.328\n",
       "frc2028       68.3627     20.878      3.274      0.001      27.058     109.667\n",
       "frc2068       84.2507     19.080      4.416      0.000      46.502     121.999\n",
       "frc2106      108.5128     19.137      5.670      0.000      70.653     146.373\n",
       "frc2998       62.3599     20.068      3.107      0.002      22.657     102.063\n",
       "frc3136       42.0600     19.248      2.185      0.031       3.980      80.140\n",
       "frc3258      130.4603     20.617      6.328      0.000      89.672     171.248\n",
       "frc3361       17.4428     20.092      0.868      0.387     -22.308      57.193\n",
       "frc339       134.6117     19.618      6.861      0.000      95.799     173.424\n",
       "frc346       142.7993     21.527      6.634      0.000     100.211     185.388\n",
       "frc384       144.4787     18.858      7.661      0.000     107.171     181.787\n",
       "frc3939      118.2483     20.355      5.809      0.000      77.979     158.518\n",
       "frc401        42.0445     20.079      2.094      0.038       2.321      81.768\n",
       "frc4286       -5.4348     20.311     -0.268      0.789     -45.617      34.747\n",
       "frc4795      140.3888     20.733      6.771      0.000      99.371     181.407\n",
       "frc5279      101.3826     19.096      5.309      0.000      63.604     139.161\n",
       "frc540        60.0245     20.118      2.984      0.003      20.223      99.826\n",
       "frc5804       82.6160     19.931      4.145      0.000      43.185     122.047\n",
       "frc5950      100.4133     20.247      4.959      0.000      60.357     140.470\n",
       "frc5954       21.7784     18.796      1.159      0.249     -15.408      58.964\n",
       "frc5957       25.6133     19.877      1.289      0.200     -13.711      64.938\n",
       "frc6021       18.8972     20.050      0.942      0.348     -20.770      58.564\n",
       "frc617        15.2331     19.867      0.767      0.445     -24.072      54.538\n",
       "frc6189       58.6229     18.855      3.109      0.002      21.321      95.925\n",
       "frc6802      163.4826     20.797      7.861      0.000     122.339     204.626\n",
       "frc6882      145.1758     21.025      6.905      0.000     103.581     186.771\n",
       "frc836       117.4253     19.085      6.153      0.000      79.668     155.182\n",
       "==============================================================================\n",
       "Omnibus:                        1.184   Durbin-Watson:                   2.102\n",
       "Prob(Omnibus):                  0.553   Jarque-Bera (JB):                1.105\n",
       "Skew:                          -0.026   Prob(JB):                        0.576\n",
       "Kurtosis:                       2.602   Cond. No.                         2.33\n",
       "==============================================================================\n",
       "\n",
       "Warnings:\n",
       "[1] Standard Errors assume that the covariance matrix of the errors is correctly specified.\n",
       "\"\"\""
      ]
     },
     "execution_count": 7,
     "metadata": {},
     "output_type": "execute_result"
    }
   ],
   "source": [
    "epr.summary()"
   ]
  },
  {
   "cell_type": "code",
   "execution_count": null,
   "metadata": {
    "collapsed": false,
    "deletable": true,
    "editable": true
   },
   "outputs": [],
   "source": [
    "matches.score_breakdown[1]['blue']"
   ]
  },
  {
   "cell_type": "code",
   "execution_count": null,
   "metadata": {
    "collapsed": true,
    "deletable": true,
    "editable": true
   },
   "outputs": [],
   "source": [
    "import pandas"
   ]
  },
  {
   "cell_type": "code",
   "execution_count": null,
   "metadata": {
    "collapsed": true,
    "deletable": true,
    "editable": true
   },
   "outputs": [],
   "source": [
    "df = pandas.DataFrame(0, index=range(10), columns=['one', 'two', 'three'])"
   ]
  },
  {
   "cell_type": "code",
   "execution_count": null,
   "metadata": {
    "collapsed": false,
    "deletable": true,
    "editable": true
   },
   "outputs": [],
   "source": [
    "def transform_func(series):\n",
    "    indexes = [('generic', ['one', 'two', 'three']), ('mine', ['coolnumber']), ('theirs': ['othercoolnumber'])]\n",
    "    \n",
    "    series['newcol'] = series[1] + series[2] + 2\n",
    "    return series\n",
    "\n",
    "df.apply(transform_func, axis=1)"
   ]
  },
  {
   "cell_type": "code",
   "execution_count": null,
   "metadata": {
    "collapsed": false,
    "deletable": true,
    "editable": true
   },
   "outputs": [],
   "source": [
    "df.at[7,'three'] = pandas.Series([1,2,3])\n",
    "df"
   ]
  },
  {
   "cell_type": "code",
   "execution_count": null,
   "metadata": {
    "collapsed": false,
    "deletable": true,
    "editable": true
   },
   "outputs": [],
   "source": [
    "matches.columns"
   ]
  },
  {
   "cell_type": "code",
   "execution_count": null,
   "metadata": {
    "collapsed": false,
    "deletable": true,
    "editable": true
   },
   "outputs": [],
   "source": [
    "s = pandas.Series(0, index=pandas.MultiIndex.from_product([['red', 'blue'], ]))\n",
    "s"
   ]
  },
  {
   "cell_type": "code",
   "execution_count": null,
   "metadata": {
    "collapsed": false,
    "deletable": true,
    "editable": true
   },
   "outputs": [],
   "source": [
    "for k, v in matches.red2.iterkv():\n",
    "    print(k, v)"
   ]
  },
  {
   "cell_type": "code",
   "execution_count": null,
   "metadata": {
    "collapsed": false,
    "deletable": true,
    "editable": true
   },
   "outputs": [],
   "source": [
    "'_'.join(['a', None, 'b'])"
   ]
  },
  {
   "cell_type": "code",
   "execution_count": null,
   "metadata": {
    "collapsed": true,
    "deletable": true,
    "editable": true
   },
   "outputs": [],
   "source": []
  }
 ],
 "metadata": {
  "kernelspec": {
   "display_name": "Python 3",
   "language": "python",
   "name": "python3"
  },
  "language_info": {
   "codemirror_mode": {
    "name": "ipython",
    "version": 3
   },
   "file_extension": ".py",
   "mimetype": "text/x-python",
   "name": "python",
   "nbconvert_exporter": "python",
   "pygments_lexer": "ipython3",
   "version": "3.6.1"
  }
 },
 "nbformat": 4,
 "nbformat_minor": 2
}
